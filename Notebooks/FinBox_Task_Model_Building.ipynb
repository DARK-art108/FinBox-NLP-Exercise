{
  "nbformat": 4,
  "nbformat_minor": 0,
  "metadata": {
    "colab": {
      "name": "FinBox Task - Model Building.ipynb",
      "provenance": [],
      "collapsed_sections": []
    },
    "kernelspec": {
      "name": "python3",
      "display_name": "Python 3"
    },
    "language_info": {
      "name": "python"
    },
    "accelerator": "GPU"
  },
  "cells": [
    {
      "cell_type": "code",
      "metadata": {
        "id": "RCqssPckyT7L"
      },
      "source": [
        "!pip install fastai --upgrade"
      ],
      "execution_count": null,
      "outputs": []
    },
    {
      "cell_type": "code",
      "metadata": {
        "id": "ZObRNT5n5_b0"
      },
      "source": [
        "from google.colab import drive\n",
        "drive.mount('/content/drive')"
      ],
      "execution_count": null,
      "outputs": []
    },
    {
      "cell_type": "code",
      "metadata": {
        "id": "4PWUE8AjZS_O",
        "colab": {
          "base_uri": "https://localhost:8080/"
        },
        "outputId": "e74db1df-52dc-4c79-c5b6-5c5bc07652ff"
      },
      "source": [
        "import pandas as pd\n",
        "import numpy as np\n",
        "import matplotlib.pyplot as plt\n",
        "%matplotlib inline\n",
        "\n",
        "import nltk\n",
        "from nltk.corpus import stopwords\n",
        "nltk.download(\"vader_lexicon\") ## Downloading vader lexicon as it contains that \n",
        "#words which are build upon social media like twitter.\n",
        "\n",
        "nltk.download('stopwords')\n",
        "\n",
        "from fastai.text.all import *"
      ],
      "execution_count": 1,
      "outputs": [
        {
          "output_type": "stream",
          "name": "stdout",
          "text": [
            "[nltk_data] Downloading package vader_lexicon to /root/nltk_data...\n",
            "[nltk_data]   Package vader_lexicon is already up-to-date!\n",
            "[nltk_data] Downloading package stopwords to /root/nltk_data...\n",
            "[nltk_data]   Package stopwords is already up-to-date!\n"
          ]
        }
      ]
    },
    {
      "cell_type": "code",
      "metadata": {
        "colab": {
          "base_uri": "https://localhost:8080/"
        },
        "id": "740uxWnpaB77",
        "outputId": "4deac291-e01a-4728-beff-614272c2a20c"
      },
      "source": [
        "!unzip '/content/drive/MyDrive/finbox_nlp_test_100k.csv.zip' -d '/content/finbox/'"
      ],
      "execution_count": null,
      "outputs": [
        {
          "output_type": "stream",
          "name": "stdout",
          "text": [
            "Archive:  /content/drive/MyDrive/finbox_nlp_test_100k.csv.zip\n",
            "  inflating: /content/finbox/finbox_nlp_test_100k.csv  \n",
            "  inflating: /content/finbox/__MACOSX/._finbox_nlp_test_100k.csv  \n"
          ]
        }
      ]
    },
    {
      "cell_type": "code",
      "metadata": {
        "colab": {
          "base_uri": "https://localhost:8080/"
        },
        "id": "Ca7SbHXRPzXo",
        "outputId": "dcfbbfc2-e49d-477e-93e2-2e4a1ee28223"
      },
      "source": [
        "!unzip '/content/finbox_nlp_test_100k.csv.zip' -d '/content/finbox/'"
      ],
      "execution_count": 2,
      "outputs": [
        {
          "output_type": "stream",
          "name": "stdout",
          "text": [
            "Archive:  /content/finbox_nlp_test_100k.csv.zip\n",
            "  inflating: /content/finbox/finbox_nlp_test_100k.csv  \n",
            "  inflating: /content/finbox/__MACOSX/._finbox_nlp_test_100k.csv  \n"
          ]
        }
      ]
    },
    {
      "cell_type": "markdown",
      "metadata": {
        "id": "qipLGbfwKjC8"
      },
      "source": [
        "### ***Loading Dataset & Preprocessing***"
      ]
    },
    {
      "cell_type": "code",
      "metadata": {
        "id": "4lp4p11Kabx_"
      },
      "source": [
        "df = pd.read_csv('/content/finbox/finbox_nlp_test_100k.csv')"
      ],
      "execution_count": 3,
      "outputs": []
    },
    {
      "cell_type": "code",
      "metadata": {
        "colab": {
          "base_uri": "https://localhost:8080/",
          "height": 621
        },
        "id": "qs6OwNISmlrX",
        "outputId": "64ee8748-25d4-4f6d-fcbf-eb0047a9b24e"
      },
      "source": [
        "df.head(10)"
      ],
      "execution_count": 4,
      "outputs": [
        {
          "output_type": "execute_result",
          "data": {
            "text/html": [
              "<div>\n",
              "<style scoped>\n",
              "    .dataframe tbody tr th:only-of-type {\n",
              "        vertical-align: middle;\n",
              "    }\n",
              "\n",
              "    .dataframe tbody tr th {\n",
              "        vertical-align: top;\n",
              "    }\n",
              "\n",
              "    .dataframe thead th {\n",
              "        text-align: right;\n",
              "    }\n",
              "</style>\n",
              "<table border=\"1\" class=\"dataframe\">\n",
              "  <thead>\n",
              "    <tr style=\"text-align: right;\">\n",
              "      <th></th>\n",
              "      <th>created_at</th>\n",
              "      <th>text</th>\n",
              "      <th>is_retweet</th>\n",
              "    </tr>\n",
              "  </thead>\n",
              "  <tbody>\n",
              "    <tr>\n",
              "      <th>0</th>\n",
              "      <td>2019-04-22 14:53:19</td>\n",
              "      <td>If my heart can barely handle a break up, I don&lt;U+2019&gt;t even want to know what&lt;U+2019&gt;s going to happen to it on the next episode of Game of Thrones</td>\n",
              "      <td>False</td>\n",
              "    </tr>\n",
              "    <tr>\n",
              "      <th>1</th>\n",
              "      <td>2019-05-06 15:23:09</td>\n",
              "      <td>10 Interesting Facts About the 'Game of Thrones' Battle of Winterfell Episode (PHOTOS) https://t.co/X04oQvDZUt</td>\n",
              "      <td>False</td>\n",
              "    </tr>\n",
              "    <tr>\n",
              "      <th>2</th>\n",
              "      <td>2019-04-16 15:15:18</td>\n",
              "      <td>The 10 Grateful Dead References in Game of Thrones You Need in Preparation for the Final Season https://t.co/r0hpsoDfQt via @Ticketfly</td>\n",
              "      <td>False</td>\n",
              "    </tr>\n",
              "    <tr>\n",
              "      <th>3</th>\n",
              "      <td>2019-04-15 20:28:42</td>\n",
              "      <td>It’s just really interesting that Game of Thrones has been building to these big reunions and none of them are satisfying? Like the whole show was built around these people meeting eachother again and when it happens its only ever rushed and cold. Always weird acting/direction.</td>\n",
              "      <td>False</td>\n",
              "    </tr>\n",
              "    <tr>\n",
              "      <th>4</th>\n",
              "      <td>2019-04-29 02:09:12</td>\n",
              "      <td>I AM STRESSED AF WATCHING GAME OF THRONES YAAAAALLLL!!!</td>\n",
              "      <td>False</td>\n",
              "    </tr>\n",
              "    <tr>\n",
              "      <th>5</th>\n",
              "      <td>2019-04-29 15:32:53</td>\n",
              "      <td>Who loves game of thrones? We here at UDCC cant get enough of it! #BattleOfWinterfell #GamefThrones #BattleForWinterfell #UDCC #gosharks</td>\n",
              "      <td>False</td>\n",
              "    </tr>\n",
              "    <tr>\n",
              "      <th>6</th>\n",
              "      <td>2019-05-20 10:32:30</td>\n",
              "      <td>OST ~ Game of Thrones Season 4 LIMITED Tour Edition 2LP (2014)\\n&lt;U+2022&gt;\\n\\n #&lt;U+0001F525&gt; #&lt;U+2744&gt;&lt;U+FE0F&gt; #forthethrone #forthewild #got #gotfinale #homeboxoffice #in12inchwetrust #killemall #killyouridols #killyourtv #lovekillsduty #dutykillslove&lt;U+2026&gt; https://t.co/4KIGo4tG8U</td>\n",
              "      <td>False</td>\n",
              "    </tr>\n",
              "    <tr>\n",
              "      <th>7</th>\n",
              "      <td>2019-05-04 01:59:37</td>\n",
              "      <td>The next time everyone&lt;U+2019&gt;s getting into a new Avengers/Game of Thrones type pop culture moment, can someone give me a heads up so I can get in on it before I have completely missed the zeitgeist? Thank you.</td>\n",
              "      <td>False</td>\n",
              "    </tr>\n",
              "    <tr>\n",
              "      <th>8</th>\n",
              "      <td>2019-05-24 13:49:06</td>\n",
              "      <td>@ComplexSports @Complex @PUSHA_T Aaron Rodgers game of thrones extra &lt;U+0001F602&gt;&lt;U+0001F602&gt;</td>\n",
              "      <td>False</td>\n",
              "    </tr>\n",
              "    <tr>\n",
              "      <th>9</th>\n",
              "      <td>2019-04-29 06:19:24</td>\n",
              "      <td>game of thrones was LIT https://t.co/hn8P0SlF43</td>\n",
              "      <td>False</td>\n",
              "    </tr>\n",
              "  </tbody>\n",
              "</table>\n",
              "</div>"
            ],
            "text/plain": [
              "            created_at  ... is_retweet\n",
              "0  2019-04-22 14:53:19  ...      False\n",
              "1  2019-05-06 15:23:09  ...      False\n",
              "2  2019-04-16 15:15:18  ...      False\n",
              "3  2019-04-15 20:28:42  ...      False\n",
              "4  2019-04-29 02:09:12  ...      False\n",
              "5  2019-04-29 15:32:53  ...      False\n",
              "6  2019-05-20 10:32:30  ...      False\n",
              "7  2019-05-04 01:59:37  ...      False\n",
              "8  2019-05-24 13:49:06  ...      False\n",
              "9  2019-04-29 06:19:24  ...      False\n",
              "\n",
              "[10 rows x 3 columns]"
            ]
          },
          "metadata": {},
          "execution_count": 4
        }
      ]
    },
    {
      "cell_type": "markdown",
      "metadata": {
        "id": "g8YkRJGoK7zT"
      },
      "source": [
        "#### **I am using a list of custom stopwords which is meant for twitter tweets and after creating this list I am extending then to the nltk common stopwords**"
      ]
    },
    {
      "cell_type": "code",
      "metadata": {
        "id": "_SvgReqoqCCA"
      },
      "source": [
        "STOPWORDS = ['a','about','above','across','after','again','against','all','almost','alone','along','already',\n",
        "'also','although','always','among','an','and','another','any','anybody','anyone','anything','anywhere','are',\n",
        "'area','areas','around','as','ask','asked','asking','asks','at','away','b','back''backed','backing','backs',\n",
        "'be','became','because','become','becomes','been','before','began','behind','being','beings','best','better','between',\n",
        "'big','both','but','by','c','came','can','cannot','case','cases','certain','certainly','clear','clearly','come','could','d','did','differ','different','differently','do','does','done','down','downed','downing','downs',\n",
        "'during','e','each','either','end','ended','ending','ends','enough','even','evenly','ever','every','everybody','everyone','everything','everywhere','f','face','fact','facts','far','felt','few','find','finds','first','for','four','from','full','fully','further','furthered','furthering','furthers','g','gave','general','generally','get','gets','give','given','gives','go',\n",
        "'going','good','goods','got','great','greatest','group','grouped','grouping','groups','h','had','has','have','having','he',\n",
        "'her','here','herself','high','higher','highest','him','himself','his','how','however','i','if','important',\n",
        "'in','interest','interested','interesting','interests','into','is','it','its','itself','j','just','k','keep','keeps','kind','knew','know','known','knows','l','largely','last','later','latest','least',\n",
        "'less','let','lets','like','likely','long','longer','longest','m','made','make','making','man','many','may','me','member','members','men','might','more','most','mostly','mr','mrs','much',\n",
        "'must','my','myself','n','necessary','need','needed','needing','needs','never','new','newer','newest','next','no','nobody','non','noone',\n",
        "'not','nothing','now','nowhere','number','numbers','o','of','off','often','old','older','oldest','on','once','one',\n",
        "'only','open','opened','opening','opens','or','order','ordered','ordering','orders','other','others','our','out','over','p','part','parted','parting',\n",
        "'parts','per','perhaps','place','places','point','pointed','pointing','points','possible','present','presented','presenting','presents','problem','problems','put','puts','q','quite','r','rather','really','right','room','rooms','s','said','same','saw','say','says','second','seconds','see','seem','seemed','seeming','seems','sees','several','shall','she','should',\n",
        "'show','showed','showing','shows','side','sides','since','small','smaller','smallest','so''some','somebody','someone','something','somewhere','state','states','still','such','sure','t',\n",
        "'take','taken','than','that','the','their','them','then','there','therefore','these','they','thing','things','think','thinks','this','those','though',\n",
        "'thought','thoughts''three','through','thus','to','today','together','too','took','toward','turn','turned','turning','turns','two','u','under','until','up','upon','us','use',\n",
        "'used','uses','v','very','w','want','wanted','wanting','wants','was','way','ways','we','well','wells','went','were','what','when','where','whether',\n",
        "'which','while','who','whole','whose','why','will','with','within','without','work','worked','working','works','would','x','y','year','years','yet''you','young','younger','youngest','your','yours','z']"
      ],
      "execution_count": 5,
      "outputs": []
    },
    {
      "cell_type": "code",
      "metadata": {
        "id": "b6lRx-vmalL9"
      },
      "source": [
        "## A cleaning funtion as in some features we are having special cheracters + emojis, \n",
        "## and some part of funtion \n",
        "\n",
        "Combined = re.compile('(@[A-Za-z0-9]+)|([^0-9A-Za-z \\t])|(\\w+:\\/\\/\\S+)') #This will remove every link,symbols,bad_symbols form text\n",
        "\n",
        "unicodes = re.compile('u\\d+') # for unicodes\n",
        "ALL_STOPWORDS = stopwords.words('english')\n",
        "ALL_STOPWORDS.extend(STOPWORDS) #NLTK STOPWORDS+CUSTOM TWITTER STOPWORDS\n",
        "\n",
        "def clean_text(text):\n",
        "    \n",
        "    if(text!=text):\n",
        "        return \"\"\n",
        "    text = text.lower() # lowercase text\n",
        "    \n",
        "    \n",
        "    text = Combined.sub('',text)\n",
        "    text = unicodes.sub('',text)\n",
        "    \n",
        "\n",
        "    text = ' '.join(word for word in text.split() if word not in ALL_STOPWORDS) # delete stopwors from text\n",
        "    return text\n",
        "\n",
        "clean_train_data = dict()\n",
        "clean_train_data['text'] = df['text'].apply(clean_text)\n",
        "clean_train_data['is_retweet'] = df['is_retweet']"
      ],
      "execution_count": 6,
      "outputs": []
    },
    {
      "cell_type": "code",
      "metadata": {
        "colab": {
          "base_uri": "https://localhost:8080/",
          "height": 34
        },
        "id": "tZUK2-p52dt3",
        "outputId": "b39ee2b6-11d7-4b34-b6ed-47e224397b60"
      },
      "source": [
        "clean_train_data['text'][1]"
      ],
      "execution_count": 7,
      "outputs": [
        {
          "output_type": "execute_result",
          "data": {
            "application/vnd.google.colaboratory.intrinsic+json": {
              "type": "string"
            },
            "text/plain": [
              "'10 game thrones battle winterfell episode photos'"
            ]
          },
          "metadata": {},
          "execution_count": 7
        }
      ]
    },
    {
      "cell_type": "code",
      "metadata": {
        "id": "Bvj-lK1h2tUX"
      },
      "source": [
        "clean_train_data_df = pd.DataFrame(clean_train_data)\n",
        "clean_train_data_df.to_csv(\"/content/clean_train.csv\")"
      ],
      "execution_count": 8,
      "outputs": []
    },
    {
      "cell_type": "code",
      "metadata": {
        "id": "vQFd0mFe8Maz"
      },
      "source": [
        "clean_train_data = pd.read_csv('/content/clean_train.csv')"
      ],
      "execution_count": 9,
      "outputs": []
    },
    {
      "cell_type": "code",
      "metadata": {
        "colab": {
          "base_uri": "https://localhost:8080/",
          "height": 1000
        },
        "id": "PZMbOhTx8PSK",
        "outputId": "a16becc2-3691-45d3-b87f-d76055f6cec5"
      },
      "source": [
        "clean_train_data.head(50)"
      ],
      "execution_count": 10,
      "outputs": [
        {
          "output_type": "execute_result",
          "data": {
            "text/html": [
              "<div>\n",
              "<style scoped>\n",
              "    .dataframe tbody tr th:only-of-type {\n",
              "        vertical-align: middle;\n",
              "    }\n",
              "\n",
              "    .dataframe tbody tr th {\n",
              "        vertical-align: top;\n",
              "    }\n",
              "\n",
              "    .dataframe thead th {\n",
              "        text-align: right;\n",
              "    }\n",
              "</style>\n",
              "<table border=\"1\" class=\"dataframe\">\n",
              "  <thead>\n",
              "    <tr style=\"text-align: right;\">\n",
              "      <th></th>\n",
              "      <th>Unnamed: 0</th>\n",
              "      <th>text</th>\n",
              "      <th>is_retweet</th>\n",
              "    </tr>\n",
              "  </thead>\n",
              "  <tbody>\n",
              "    <tr>\n",
              "      <th>0</th>\n",
              "      <td>0</td>\n",
              "      <td>heart barely handle break dont whats happen episode game thrones</td>\n",
              "      <td>False</td>\n",
              "    </tr>\n",
              "    <tr>\n",
              "      <th>1</th>\n",
              "      <td>1</td>\n",
              "      <td>10 game thrones battle winterfell episode photos</td>\n",
              "      <td>False</td>\n",
              "    </tr>\n",
              "    <tr>\n",
              "      <th>2</th>\n",
              "      <td>2</td>\n",
              "      <td>10 grateful dead references game thrones preparation final season via</td>\n",
              "      <td>False</td>\n",
              "    </tr>\n",
              "    <tr>\n",
              "      <th>3</th>\n",
              "      <td>3</td>\n",
              "      <td>game thrones building reunions none satisfying built people meeting eachother happens rushed cold weird actingdirection</td>\n",
              "      <td>False</td>\n",
              "    </tr>\n",
              "    <tr>\n",
              "      <th>4</th>\n",
              "      <td>4</td>\n",
              "      <td>stressed af watching game thrones yaaaaallll</td>\n",
              "      <td>False</td>\n",
              "    </tr>\n",
              "    <tr>\n",
              "      <th>5</th>\n",
              "      <td>5</td>\n",
              "      <td>loves game thrones udcc cant battleofwinterfell gamefthrones battleforwinterfell udcc gosharks</td>\n",
              "      <td>False</td>\n",
              "    </tr>\n",
              "    <tr>\n",
              "      <th>6</th>\n",
              "      <td>6</td>\n",
              "      <td>ost game thrones season 4 limited tour edition 2lp 2014 f525 ufe0f forthethrone forthewild gotfinale homeboxoffice in12inchwetrust killemall killyouridols killyourtv lovekillsduty dutykillslove</td>\n",
              "      <td>False</td>\n",
              "    </tr>\n",
              "    <tr>\n",
              "      <th>7</th>\n",
              "      <td>7</td>\n",
              "      <td>time everyones getting avengersgame thrones type pop culture moment heads completely missed zeitgeist thank</td>\n",
              "      <td>False</td>\n",
              "    </tr>\n",
              "    <tr>\n",
              "      <th>8</th>\n",
              "      <td>8</td>\n",
              "      <td>aaron rodgers game thrones extra f602f602</td>\n",
              "      <td>False</td>\n",
              "    </tr>\n",
              "    <tr>\n",
              "      <th>9</th>\n",
              "      <td>9</td>\n",
              "      <td>game thrones lit</td>\n",
              "      <td>False</td>\n",
              "    </tr>\n",
              "    <tr>\n",
              "      <th>10</th>\n",
              "      <td>10</td>\n",
              "      <td>pasture 5 agoit game thrones generating wealth running country people</td>\n",
              "      <td>False</td>\n",
              "    </tr>\n",
              "    <tr>\n",
              "      <th>11</th>\n",
              "      <td>11</td>\n",
              "      <td>watched episode game thrones yet feel left</td>\n",
              "      <td>False</td>\n",
              "    </tr>\n",
              "    <tr>\n",
              "      <th>12</th>\n",
              "      <td>12</td>\n",
              "      <td>game thrones tweet</td>\n",
              "      <td>False</td>\n",
              "    </tr>\n",
              "    <tr>\n",
              "      <th>13</th>\n",
              "      <td>13</td>\n",
              "      <td>game thrones finale reveal huge twist bran daenerys</td>\n",
              "      <td>False</td>\n",
              "    </tr>\n",
              "    <tr>\n",
              "      <th>14</th>\n",
              "      <td>14</td>\n",
              "      <td>im caught game thrones partially im starting current season</td>\n",
              "      <td>False</td>\n",
              "    </tr>\n",
              "    <tr>\n",
              "      <th>15</th>\n",
              "      <td>15</td>\n",
              "      <td>wine cheese game thrones contest bourbon drinks spirits booze imbibe</td>\n",
              "      <td>False</td>\n",
              "    </tr>\n",
              "    <tr>\n",
              "      <th>16</th>\n",
              "      <td>16</td>\n",
              "      <td>software game thrones game ill lose shit</td>\n",
              "      <td>False</td>\n",
              "    </tr>\n",
              "    <tr>\n",
              "      <th>17</th>\n",
              "      <td>17</td>\n",
              "      <td>thoughts game thrones gotsubverting expectations writing</td>\n",
              "      <td>False</td>\n",
              "    </tr>\n",
              "    <tr>\n",
              "      <th>18</th>\n",
              "      <td>18</td>\n",
              "      <td>welcome april 27th snowing north game thrones marketing strong</td>\n",
              "      <td>False</td>\n",
              "    </tr>\n",
              "    <tr>\n",
              "      <th>19</th>\n",
              "      <td>19</td>\n",
              "      <td>game thrones final season rolling stonegameofthrones</td>\n",
              "      <td>False</td>\n",
              "    </tr>\n",
              "    <tr>\n",
              "      <th>20</th>\n",
              "      <td>20</td>\n",
              "      <td>daenerys upset targaryens crazy</td>\n",
              "      <td>False</td>\n",
              "    </tr>\n",
              "    <tr>\n",
              "      <th>21</th>\n",
              "      <td>21</td>\n",
              "      <td>chose game thrones bad choice lol</td>\n",
              "      <td>False</td>\n",
              "    </tr>\n",
              "    <tr>\n",
              "      <th>22</th>\n",
              "      <td>22</td>\n",
              "      <td>im happy game thrones shit</td>\n",
              "      <td>False</td>\n",
              "    </tr>\n",
              "    <tr>\n",
              "      <th>23</th>\n",
              "      <td>23</td>\n",
              "      <td>game thrones free watch weekend cable dont hbo guess ill hype</td>\n",
              "      <td>False</td>\n",
              "    </tr>\n",
              "    <tr>\n",
              "      <th>24</th>\n",
              "      <td>24</td>\n",
              "      <td>im happy game thrones back episode</td>\n",
              "      <td>False</td>\n",
              "    </tr>\n",
              "    <tr>\n",
              "      <th>25</th>\n",
              "      <td>25</td>\n",
              "      <td>wasnt coachella dont watch game thrones didnt watch tiger win masters irrelevant weekend</td>\n",
              "      <td>False</td>\n",
              "    </tr>\n",
              "    <tr>\n",
              "      <th>26</th>\n",
              "      <td>26</td>\n",
              "      <td>news esp webb1</td>\n",
              "      <td>False</td>\n",
              "    </tr>\n",
              "    <tr>\n",
              "      <th>27</th>\n",
              "      <td>27</td>\n",
              "      <td>fuck game thrones actual fuck</td>\n",
              "      <td>False</td>\n",
              "    </tr>\n",
              "    <tr>\n",
              "      <th>28</th>\n",
              "      <td>28</td>\n",
              "      <td>finally endgame imma bout watch game thrones happens stark tonight ill lose</td>\n",
              "      <td>False</td>\n",
              "    </tr>\n",
              "    <tr>\n",
              "      <th>29</th>\n",
              "      <td>29</td>\n",
              "      <td>friendly reminder spoil game thrones online offline people able watch episodes soon everyones waiting please courteous</td>\n",
              "      <td>False</td>\n",
              "    </tr>\n",
              "    <tr>\n",
              "      <th>30</th>\n",
              "      <td>30</td>\n",
              "      <td>game thrones whatever happen wont gameofthrones</td>\n",
              "      <td>False</td>\n",
              "    </tr>\n",
              "    <tr>\n",
              "      <th>31</th>\n",
              "      <td>31</td>\n",
              "      <td>agree thats annoying game thrones people social media arrogantly dismissively suggest theyve cool youre</td>\n",
              "      <td>False</td>\n",
              "    </tr>\n",
              "    <tr>\n",
              "      <th>32</th>\n",
              "      <td>32</td>\n",
              "      <td>trgheadlines theriseguys hbo confirms game thrones starbucks coffee cameo mistake via</td>\n",
              "      <td>False</td>\n",
              "    </tr>\n",
              "    <tr>\n",
              "      <th>33</th>\n",
              "      <td>33</td>\n",
              "      <td>NaN</td>\n",
              "      <td>False</td>\n",
              "    </tr>\n",
              "    <tr>\n",
              "      <th>34</th>\n",
              "      <td>34</td>\n",
              "      <td>people twitter madder game thrones carpet bombing middle east</td>\n",
              "      <td>False</td>\n",
              "    </tr>\n",
              "    <tr>\n",
              "      <th>35</th>\n",
              "      <td>35</td>\n",
              "      <td>game thrones golly wonders tweeting specific tip readership hes watched episode</td>\n",
              "      <td>False</td>\n",
              "    </tr>\n",
              "    <tr>\n",
              "      <th>36</th>\n",
              "      <td>36</td>\n",
              "      <td>jorah game thrones</td>\n",
              "      <td>False</td>\n",
              "    </tr>\n",
              "    <tr>\n",
              "      <th>37</th>\n",
              "      <td>37</td>\n",
              "      <td>calling jason momoa cgame thronesd start season episode</td>\n",
              "      <td>False</td>\n",
              "    </tr>\n",
              "    <tr>\n",
              "      <th>38</th>\n",
              "      <td>38</td>\n",
              "      <td>aparece una taza de starbucks en game thrones</td>\n",
              "      <td>False</td>\n",
              "    </tr>\n",
              "    <tr>\n",
              "      <th>39</th>\n",
              "      <td>39</td>\n",
              "      <td>heres 19 1996 keplers bookstore promotion book called game thronesmaybe youve heard</td>\n",
              "      <td>False</td>\n",
              "    </tr>\n",
              "    <tr>\n",
              "      <th>40</th>\n",
              "      <td>40</td>\n",
              "      <td>9 oclock lots fireworks victoria day cant believe people watching chapter game thrones</td>\n",
              "      <td>False</td>\n",
              "    </tr>\n",
              "    <tr>\n",
              "      <th>41</th>\n",
              "      <td>41</td>\n",
              "      <td>game thrones tonight sooooooo</td>\n",
              "      <td>False</td>\n",
              "    </tr>\n",
              "    <tr>\n",
              "      <th>42</th>\n",
              "      <td>42</td>\n",
              "      <td>dany lowkey thanos bro lmao f602f602im feels cant narrator game thrones trailersa0 day f64ff3ffi speaking voice a0 please retweet tv interview agree f64ff3fff918f3fff447f3ff</td>\n",
              "      <td>False</td>\n",
              "    </tr>\n",
              "    <tr>\n",
              "      <th>43</th>\n",
              "      <td>43</td>\n",
              "      <td>mesothelioma law firm game thronesthemed gender reveal parties gaining popularity parentstobe</td>\n",
              "      <td>False</td>\n",
              "    </tr>\n",
              "    <tr>\n",
              "      <th>44</th>\n",
              "      <td>44</td>\n",
              "      <td>entire collection live blogroundup amp tutorial gtgtgt forthethrone urbandecay</td>\n",
              "      <td>False</td>\n",
              "    </tr>\n",
              "    <tr>\n",
              "      <th>45</th>\n",
              "      <td>45</td>\n",
              "      <td>officially starting s1e1 game throneshopefully isnt waste time</td>\n",
              "      <td>False</td>\n",
              "    </tr>\n",
              "    <tr>\n",
              "      <th>46</th>\n",
              "      <td>46</td>\n",
              "      <td>game thrones revives jamie lannisters hand editing fail week starbucks cup debacle theres questionable shoe episode 5</td>\n",
              "      <td>False</td>\n",
              "    </tr>\n",
              "    <tr>\n",
              "      <th>47</th>\n",
              "      <td>47</td>\n",
              "      <td>people offline dont understand care final season game thrones please stop inventing rest 2019 distract memorial day deadline</td>\n",
              "      <td>False</td>\n",
              "    </tr>\n",
              "    <tr>\n",
              "      <th>48</th>\n",
              "      <td>48</td>\n",
              "      <td>game thrones epic books heading screen</td>\n",
              "      <td>False</td>\n",
              "    </tr>\n",
              "    <tr>\n",
              "      <th>49</th>\n",
              "      <td>49</td>\n",
              "      <td>absolutely cracking tooth tonight episode game thrones</td>\n",
              "      <td>False</td>\n",
              "    </tr>\n",
              "  </tbody>\n",
              "</table>\n",
              "</div>"
            ],
            "text/plain": [
              "    Unnamed: 0  ... is_retweet\n",
              "0            0  ...      False\n",
              "1            1  ...      False\n",
              "2            2  ...      False\n",
              "3            3  ...      False\n",
              "4            4  ...      False\n",
              "5            5  ...      False\n",
              "6            6  ...      False\n",
              "7            7  ...      False\n",
              "8            8  ...      False\n",
              "9            9  ...      False\n",
              "10          10  ...      False\n",
              "11          11  ...      False\n",
              "12          12  ...      False\n",
              "13          13  ...      False\n",
              "14          14  ...      False\n",
              "15          15  ...      False\n",
              "16          16  ...      False\n",
              "17          17  ...      False\n",
              "18          18  ...      False\n",
              "19          19  ...      False\n",
              "20          20  ...      False\n",
              "21          21  ...      False\n",
              "22          22  ...      False\n",
              "23          23  ...      False\n",
              "24          24  ...      False\n",
              "25          25  ...      False\n",
              "26          26  ...      False\n",
              "27          27  ...      False\n",
              "28          28  ...      False\n",
              "29          29  ...      False\n",
              "30          30  ...      False\n",
              "31          31  ...      False\n",
              "32          32  ...      False\n",
              "33          33  ...      False\n",
              "34          34  ...      False\n",
              "35          35  ...      False\n",
              "36          36  ...      False\n",
              "37          37  ...      False\n",
              "38          38  ...      False\n",
              "39          39  ...      False\n",
              "40          40  ...      False\n",
              "41          41  ...      False\n",
              "42          42  ...      False\n",
              "43          43  ...      False\n",
              "44          44  ...      False\n",
              "45          45  ...      False\n",
              "46          46  ...      False\n",
              "47          47  ...      False\n",
              "48          48  ...      False\n",
              "49          49  ...      False\n",
              "\n",
              "[50 rows x 3 columns]"
            ]
          },
          "metadata": {},
          "execution_count": 10
        }
      ]
    },
    {
      "cell_type": "code",
      "metadata": {
        "id": "QhW8kUVZ8Rjo"
      },
      "source": [
        "clean_train_data.drop(['Unnamed: 0','is_retweet'],axis=1,inplace=True)"
      ],
      "execution_count": 11,
      "outputs": []
    },
    {
      "cell_type": "code",
      "metadata": {
        "colab": {
          "base_uri": "https://localhost:8080/",
          "height": 440
        },
        "id": "bOZLyTkT8m0N",
        "outputId": "9befbd07-16eb-4802-d740-27f715183a03"
      },
      "source": [
        "clean_train_data.head(100)"
      ],
      "execution_count": 12,
      "outputs": [
        {
          "output_type": "execute_result",
          "data": {
            "text/html": [
              "<div>\n",
              "<style scoped>\n",
              "    .dataframe tbody tr th:only-of-type {\n",
              "        vertical-align: middle;\n",
              "    }\n",
              "\n",
              "    .dataframe tbody tr th {\n",
              "        vertical-align: top;\n",
              "    }\n",
              "\n",
              "    .dataframe thead th {\n",
              "        text-align: right;\n",
              "    }\n",
              "</style>\n",
              "<table border=\"1\" class=\"dataframe\">\n",
              "  <thead>\n",
              "    <tr style=\"text-align: right;\">\n",
              "      <th></th>\n",
              "      <th>text</th>\n",
              "    </tr>\n",
              "  </thead>\n",
              "  <tbody>\n",
              "    <tr>\n",
              "      <th>0</th>\n",
              "      <td>heart barely handle break dont whats happen episode game thrones</td>\n",
              "    </tr>\n",
              "    <tr>\n",
              "      <th>1</th>\n",
              "      <td>10 game thrones battle winterfell episode photos</td>\n",
              "    </tr>\n",
              "    <tr>\n",
              "      <th>2</th>\n",
              "      <td>10 grateful dead references game thrones preparation final season via</td>\n",
              "    </tr>\n",
              "    <tr>\n",
              "      <th>3</th>\n",
              "      <td>game thrones building reunions none satisfying built people meeting eachother happens rushed cold weird actingdirection</td>\n",
              "    </tr>\n",
              "    <tr>\n",
              "      <th>4</th>\n",
              "      <td>stressed af watching game thrones yaaaaallll</td>\n",
              "    </tr>\n",
              "    <tr>\n",
              "      <th>...</th>\n",
              "      <td>...</td>\n",
              "    </tr>\n",
              "    <tr>\n",
              "      <th>95</th>\n",
              "      <td>game thrones knight king died awesome cersei final boss hate incredible episode</td>\n",
              "    </tr>\n",
              "    <tr>\n",
              "      <th>96</th>\n",
              "      <td>play game thrones win diewhen watch game thrones bitch cry</td>\n",
              "    </tr>\n",
              "    <tr>\n",
              "      <th>97</th>\n",
              "      <td>watch game thrones money tonight</td>\n",
              "    </tr>\n",
              "    <tr>\n",
              "      <th>98</th>\n",
              "      <td>gonna million catch game thrones ill postpone die</td>\n",
              "    </tr>\n",
              "    <tr>\n",
              "      <th>99</th>\n",
              "      <td>watch premier game thrones season 8 premiere spoilers bloodshots ep 120 gameofthronesseason8 forthethrone houselannister housetargaryen housestark starwarsix barry hbo disneyplus</td>\n",
              "    </tr>\n",
              "  </tbody>\n",
              "</table>\n",
              "<p>100 rows × 1 columns</p>\n",
              "</div>"
            ],
            "text/plain": [
              "                                                                                                                                                                                  text\n",
              "0                                                                                                                     heart barely handle break dont whats happen episode game thrones\n",
              "1                                                                                                                                     10 game thrones battle winterfell episode photos\n",
              "2                                                                                                                10 grateful dead references game thrones preparation final season via\n",
              "3                                                              game thrones building reunions none satisfying built people meeting eachother happens rushed cold weird actingdirection\n",
              "4                                                                                                                                         stressed af watching game thrones yaaaaallll\n",
              "..                                                                                                                                                                                 ...\n",
              "95                                                                                                     game thrones knight king died awesome cersei final boss hate incredible episode\n",
              "96                                                                                                                          play game thrones win diewhen watch game thrones bitch cry\n",
              "97                                                                                                                                                    watch game thrones money tonight\n",
              "98                                                                                                                                   gonna million catch game thrones ill postpone die\n",
              "99  watch premier game thrones season 8 premiere spoilers bloodshots ep 120 gameofthronesseason8 forthethrone houselannister housetargaryen housestark starwarsix barry hbo disneyplus\n",
              "\n",
              "[100 rows x 1 columns]"
            ]
          },
          "metadata": {},
          "execution_count": 12
        }
      ]
    },
    {
      "cell_type": "code",
      "metadata": {
        "colab": {
          "base_uri": "https://localhost:8080/",
          "height": 175
        },
        "id": "aJLpcdc68pKX",
        "outputId": "3862479b-ed3d-4c91-d703-01442f060a82"
      },
      "source": [
        "clean_train_data.describe()"
      ],
      "execution_count": 13,
      "outputs": [
        {
          "output_type": "execute_result",
          "data": {
            "text/html": [
              "<div>\n",
              "<style scoped>\n",
              "    .dataframe tbody tr th:only-of-type {\n",
              "        vertical-align: middle;\n",
              "    }\n",
              "\n",
              "    .dataframe tbody tr th {\n",
              "        vertical-align: top;\n",
              "    }\n",
              "\n",
              "    .dataframe thead th {\n",
              "        text-align: right;\n",
              "    }\n",
              "</style>\n",
              "<table border=\"1\" class=\"dataframe\">\n",
              "  <thead>\n",
              "    <tr style=\"text-align: right;\">\n",
              "      <th></th>\n",
              "      <th>text</th>\n",
              "    </tr>\n",
              "  </thead>\n",
              "  <tbody>\n",
              "    <tr>\n",
              "      <th>count</th>\n",
              "      <td>102600</td>\n",
              "    </tr>\n",
              "    <tr>\n",
              "      <th>unique</th>\n",
              "      <td>93096</td>\n",
              "    </tr>\n",
              "    <tr>\n",
              "      <th>top</th>\n",
              "      <td>game thrones</td>\n",
              "    </tr>\n",
              "    <tr>\n",
              "      <th>freq</th>\n",
              "      <td>1330</td>\n",
              "    </tr>\n",
              "  </tbody>\n",
              "</table>\n",
              "</div>"
            ],
            "text/plain": [
              "                text\n",
              "count         102600\n",
              "unique         93096\n",
              "top     game thrones\n",
              "freq            1330"
            ]
          },
          "metadata": {},
          "execution_count": 13
        }
      ]
    },
    {
      "cell_type": "code",
      "metadata": {
        "colab": {
          "base_uri": "https://localhost:8080/"
        },
        "id": "eRdHFngSPYoo",
        "outputId": "5a132546-fe07-4690-c503-b3d8acfcf43a"
      },
      "source": [
        "!pip install twython"
      ],
      "execution_count": 14,
      "outputs": [
        {
          "output_type": "stream",
          "name": "stdout",
          "text": [
            "Collecting twython\n",
            "  Downloading twython-3.9.1-py3-none-any.whl (33 kB)\n",
            "Requirement already satisfied: requests-oauthlib>=0.4.0 in /usr/local/lib/python3.7/dist-packages (from twython) (1.3.0)\n",
            "Requirement already satisfied: requests>=2.1.0 in /usr/local/lib/python3.7/dist-packages (from twython) (2.23.0)\n",
            "Requirement already satisfied: urllib3!=1.25.0,!=1.25.1,<1.26,>=1.21.1 in /usr/local/lib/python3.7/dist-packages (from requests>=2.1.0->twython) (1.24.3)\n",
            "Requirement already satisfied: chardet<4,>=3.0.2 in /usr/local/lib/python3.7/dist-packages (from requests>=2.1.0->twython) (3.0.4)\n",
            "Requirement already satisfied: certifi>=2017.4.17 in /usr/local/lib/python3.7/dist-packages (from requests>=2.1.0->twython) (2021.5.30)\n",
            "Requirement already satisfied: idna<3,>=2.5 in /usr/local/lib/python3.7/dist-packages (from requests>=2.1.0->twython) (2.10)\n",
            "Requirement already satisfied: oauthlib>=3.0.0 in /usr/local/lib/python3.7/dist-packages (from requests-oauthlib>=0.4.0->twython) (3.1.1)\n",
            "Installing collected packages: twython\n",
            "Successfully installed twython-3.9.1\n"
          ]
        }
      ]
    },
    {
      "cell_type": "code",
      "metadata": {
        "id": "h09rHRvx8-1q"
      },
      "source": [
        "from nltk.sentiment.vader import SentimentIntensityAnalyzer\n",
        "#0 for negative\n",
        "#1 for positive\n",
        "analyzer = SentimentIntensityAnalyzer()\n",
        "\n",
        "def vader_sentiment_result(sent):\n",
        "    scores = analyzer.polarity_scores(str(sent))\n",
        "    \n",
        "    if scores[\"neg\"] > scores[\"pos\"]:\n",
        "        return 0\n",
        "\n",
        "    return 1\n",
        "\n",
        "clean_train_data['label'] = clean_train_data['text'].apply(lambda x: vader_sentiment_result(x))"
      ],
      "execution_count": 15,
      "outputs": []
    },
    {
      "cell_type": "code",
      "metadata": {
        "colab": {
          "base_uri": "https://localhost:8080/",
          "height": 223
        },
        "id": "W1CZd1dOAyXy",
        "outputId": "ae1b51b2-7826-4cd0-f3a8-accb3d3d94b6"
      },
      "source": [
        "clean_train_data.head()"
      ],
      "execution_count": 16,
      "outputs": [
        {
          "output_type": "execute_result",
          "data": {
            "text/html": [
              "<div>\n",
              "<style scoped>\n",
              "    .dataframe tbody tr th:only-of-type {\n",
              "        vertical-align: middle;\n",
              "    }\n",
              "\n",
              "    .dataframe tbody tr th {\n",
              "        vertical-align: top;\n",
              "    }\n",
              "\n",
              "    .dataframe thead th {\n",
              "        text-align: right;\n",
              "    }\n",
              "</style>\n",
              "<table border=\"1\" class=\"dataframe\">\n",
              "  <thead>\n",
              "    <tr style=\"text-align: right;\">\n",
              "      <th></th>\n",
              "      <th>text</th>\n",
              "      <th>label</th>\n",
              "    </tr>\n",
              "  </thead>\n",
              "  <tbody>\n",
              "    <tr>\n",
              "      <th>0</th>\n",
              "      <td>heart barely handle break dont whats happen episode game thrones</td>\n",
              "      <td>1</td>\n",
              "    </tr>\n",
              "    <tr>\n",
              "      <th>1</th>\n",
              "      <td>10 game thrones battle winterfell episode photos</td>\n",
              "      <td>0</td>\n",
              "    </tr>\n",
              "    <tr>\n",
              "      <th>2</th>\n",
              "      <td>10 grateful dead references game thrones preparation final season via</td>\n",
              "      <td>0</td>\n",
              "    </tr>\n",
              "    <tr>\n",
              "      <th>3</th>\n",
              "      <td>game thrones building reunions none satisfying built people meeting eachother happens rushed cold weird actingdirection</td>\n",
              "      <td>0</td>\n",
              "    </tr>\n",
              "    <tr>\n",
              "      <th>4</th>\n",
              "      <td>stressed af watching game thrones yaaaaallll</td>\n",
              "      <td>0</td>\n",
              "    </tr>\n",
              "  </tbody>\n",
              "</table>\n",
              "</div>"
            ],
            "text/plain": [
              "                                                                                                                      text  label\n",
              "0                                                         heart barely handle break dont whats happen episode game thrones      1\n",
              "1                                                                         10 game thrones battle winterfell episode photos      0\n",
              "2                                                    10 grateful dead references game thrones preparation final season via      0\n",
              "3  game thrones building reunions none satisfying built people meeting eachother happens rushed cold weird actingdirection      0\n",
              "4                                                                             stressed af watching game thrones yaaaaallll      0"
            ]
          },
          "metadata": {},
          "execution_count": 16
        }
      ]
    },
    {
      "cell_type": "code",
      "metadata": {
        "id": "uI234DK4xkCg"
      },
      "source": [
        "clean_train_data.label=clean_train_data.label.map({1:\"Positive\",0:\"Negative\"})"
      ],
      "execution_count": 17,
      "outputs": []
    },
    {
      "cell_type": "code",
      "metadata": {
        "colab": {
          "base_uri": "https://localhost:8080/",
          "height": 474
        },
        "id": "wVgDxIAn6sYk",
        "outputId": "c719eece-90ef-4c62-e54e-37a4236d57cb"
      },
      "source": [
        "clean_train_data"
      ],
      "execution_count": 18,
      "outputs": [
        {
          "output_type": "execute_result",
          "data": {
            "text/html": [
              "<div>\n",
              "<style scoped>\n",
              "    .dataframe tbody tr th:only-of-type {\n",
              "        vertical-align: middle;\n",
              "    }\n",
              "\n",
              "    .dataframe tbody tr th {\n",
              "        vertical-align: top;\n",
              "    }\n",
              "\n",
              "    .dataframe thead th {\n",
              "        text-align: right;\n",
              "    }\n",
              "</style>\n",
              "<table border=\"1\" class=\"dataframe\">\n",
              "  <thead>\n",
              "    <tr style=\"text-align: right;\">\n",
              "      <th></th>\n",
              "      <th>text</th>\n",
              "      <th>label</th>\n",
              "    </tr>\n",
              "  </thead>\n",
              "  <tbody>\n",
              "    <tr>\n",
              "      <th>0</th>\n",
              "      <td>heart barely handle break dont whats happen episode game thrones</td>\n",
              "      <td>Positive</td>\n",
              "    </tr>\n",
              "    <tr>\n",
              "      <th>1</th>\n",
              "      <td>10 game thrones battle winterfell episode photos</td>\n",
              "      <td>Negative</td>\n",
              "    </tr>\n",
              "    <tr>\n",
              "      <th>2</th>\n",
              "      <td>10 grateful dead references game thrones preparation final season via</td>\n",
              "      <td>Negative</td>\n",
              "    </tr>\n",
              "    <tr>\n",
              "      <th>3</th>\n",
              "      <td>game thrones building reunions none satisfying built people meeting eachother happens rushed cold weird actingdirection</td>\n",
              "      <td>Negative</td>\n",
              "    </tr>\n",
              "    <tr>\n",
              "      <th>4</th>\n",
              "      <td>stressed af watching game thrones yaaaaallll</td>\n",
              "      <td>Negative</td>\n",
              "    </tr>\n",
              "    <tr>\n",
              "      <th>...</th>\n",
              "      <td>...</td>\n",
              "      <td>...</td>\n",
              "    </tr>\n",
              "    <tr>\n",
              "      <th>102684</th>\n",
              "      <td>im tempted throw game thrones watch party north sunday yall aint talking bout</td>\n",
              "      <td>Positive</td>\n",
              "    </tr>\n",
              "    <tr>\n",
              "      <th>102685</th>\n",
              "      <td>season 3 game thrones ugh</td>\n",
              "      <td>Negative</td>\n",
              "    </tr>\n",
              "    <tr>\n",
              "      <th>102686</th>\n",
              "      <td>idk game thrones bitch fucking brother gag</td>\n",
              "      <td>Negative</td>\n",
              "    </tr>\n",
              "    <tr>\n",
              "      <th>102687</th>\n",
              "      <td>youtube algorithm awesome night game thrones watching boney performances star wars trailer suggested prominent antifeministgamergate account totally awesome</td>\n",
              "      <td>Positive</td>\n",
              "    </tr>\n",
              "    <tr>\n",
              "      <th>102688</th>\n",
              "      <td>game thrones viewing platforms increased season debuted 2011 averaged total audience 93 million seventh season average viewership program grew 328 million bradadgate</td>\n",
              "      <td>Positive</td>\n",
              "    </tr>\n",
              "  </tbody>\n",
              "</table>\n",
              "<p>102689 rows × 2 columns</p>\n",
              "</div>"
            ],
            "text/plain": [
              "                                                                                                                                                                         text     label\n",
              "0                                                                                                            heart barely handle break dont whats happen episode game thrones  Positive\n",
              "1                                                                                                                            10 game thrones battle winterfell episode photos  Negative\n",
              "2                                                                                                       10 grateful dead references game thrones preparation final season via  Negative\n",
              "3                                                     game thrones building reunions none satisfying built people meeting eachother happens rushed cold weird actingdirection  Negative\n",
              "4                                                                                                                                stressed af watching game thrones yaaaaallll  Negative\n",
              "...                                                                                                                                                                       ...       ...\n",
              "102684                                                                                          im tempted throw game thrones watch party north sunday yall aint talking bout  Positive\n",
              "102685                                                                                                                                              season 3 game thrones ugh  Negative\n",
              "102686                                                                                                                             idk game thrones bitch fucking brother gag  Negative\n",
              "102687           youtube algorithm awesome night game thrones watching boney performances star wars trailer suggested prominent antifeministgamergate account totally awesome  Positive\n",
              "102688  game thrones viewing platforms increased season debuted 2011 averaged total audience 93 million seventh season average viewership program grew 328 million bradadgate  Positive\n",
              "\n",
              "[102689 rows x 2 columns]"
            ]
          },
          "metadata": {},
          "execution_count": 18
        }
      ]
    },
    {
      "cell_type": "code",
      "metadata": {
        "id": "CaWdscn4PA3r"
      },
      "source": [
        "# Defining the DataBlock:\n",
        "tweet_clas = DataBlock(\n",
        "    blocks=(TextBlock.from_df('text', seq_len=72), CategoryBlock),\n",
        "    get_x=ColReader('text'), get_y=ColReader('label'))"
      ],
      "execution_count": 19,
      "outputs": []
    },
    {
      "cell_type": "code",
      "metadata": {
        "colab": {
          "base_uri": "https://localhost:8080/",
          "height": 72
        },
        "id": "3lrzcum7PAxJ",
        "outputId": "20572899-209f-4055-bc7f-dfe076ed758f"
      },
      "source": [
        "tweet = tweet_clas.dataloaders(clean_train_data, bs = 64, is_lm=True)"
      ],
      "execution_count": 21,
      "outputs": [
        {
          "output_type": "display_data",
          "data": {
            "text/html": [
              ""
            ],
            "text/plain": [
              "<IPython.core.display.HTML object>"
            ]
          },
          "metadata": {}
        },
        {
          "output_type": "stream",
          "name": "stderr",
          "text": [
            "/usr/local/lib/python3.7/dist-packages/numpy/core/_asarray.py:83: VisibleDeprecationWarning: Creating an ndarray from ragged nested sequences (which is a list-or-tuple of lists-or-tuples-or ndarrays with different lengths or shapes) is deprecated. If you meant to do this, you must specify 'dtype=object' when creating the ndarray\n",
            "  return array(a, dtype, copy=False, order=order)\n"
          ]
        }
      ]
    },
    {
      "cell_type": "code",
      "metadata": {
        "colab": {
          "base_uri": "https://localhost:8080/",
          "height": 230
        },
        "id": "UzkF_ZD0zvPo",
        "outputId": "156aae0e-007c-43c5-c210-fe36d36f5a63"
      },
      "source": [
        "tweet.show_batch(max_n=3)"
      ],
      "execution_count": 23,
      "outputs": [
        {
          "output_type": "display_data",
          "data": {
            "text/html": [
              "<table border=\"1\" class=\"dataframe\">\n",
              "  <thead>\n",
              "    <tr style=\"text-align: right;\">\n",
              "      <th></th>\n",
              "      <th>text</th>\n",
              "      <th>category</th>\n",
              "    </tr>\n",
              "  </thead>\n",
              "  <tbody>\n",
              "    <tr>\n",
              "      <th>0</th>\n",
              "      <td>xxbos xxunk xxrep 3 u h xxrep 3 u h game thrones picture joe xxunk n xxrep 3 o that s xxrep 7 u m xxrep 4 u h shit oh game xxunk xxunk mike xxrep 4 o n tweet xxunk xxrep 5 e t passed pressure</td>\n",
              "      <td>Negative</td>\n",
              "    </tr>\n",
              "    <tr>\n",
              "      <th>1</th>\n",
              "      <td>xxbos watch game thrones season 8 episode 2 online episode free watch game thrones season 8 episode 2 live stream online free game thrones season 8 episode 2 online free streaming ita download hd season game forthethrone watch linkgtgt</td>\n",
              "      <td>Positive</td>\n",
              "    </tr>\n",
              "    <tr>\n",
              "      <th>2</th>\n",
              "      <td>xxbos watch game thrones season 8 episode 6 online episode free watch game thrones season 8 episode 6 live stream online free game thrones season 8 episode 6 online free streaming ita download hd gameofthrones season game watch linkgtgt</td>\n",
              "      <td>Positive</td>\n",
              "    </tr>\n",
              "  </tbody>\n",
              "</table>"
            ],
            "text/plain": [
              "<IPython.core.display.HTML object>"
            ]
          },
          "metadata": {}
        }
      ]
    },
    {
      "cell_type": "code",
      "metadata": {
        "id": "VttoiYSj0vQT"
      },
      "source": [
        "txt = clean_train_data['text'].iloc[5]"
      ],
      "execution_count": 24,
      "outputs": []
    },
    {
      "cell_type": "code",
      "metadata": {
        "id": "Z7VqVTlr3Iln",
        "colab": {
          "base_uri": "https://localhost:8080/",
          "height": 34
        },
        "outputId": "20ed01a2-9c43-41b2-e7e1-bcd5f90238a9"
      },
      "source": [
        "txt"
      ],
      "execution_count": 25,
      "outputs": [
        {
          "output_type": "execute_result",
          "data": {
            "application/vnd.google.colaboratory.intrinsic+json": {
              "type": "string"
            },
            "text/plain": [
              "'loves game thrones udcc cant battleofwinterfell gamefthrones battleforwinterfell udcc gosharks'"
            ]
          },
          "metadata": {},
          "execution_count": 25
        }
      ]
    },
    {
      "cell_type": "code",
      "metadata": {
        "colab": {
          "base_uri": "https://localhost:8080/"
        },
        "id": "At2cIY3N1S-R",
        "outputId": "943f4959-df5b-45e3-a32d-a2049d639eb3"
      },
      "source": [
        "spacy = WordTokenizer()\n",
        "toks = first(spacy([txt]))\n",
        "print(coll_repr(toks, 30)) #tokenizing to len 30"
      ],
      "execution_count": 26,
      "outputs": [
        {
          "output_type": "stream",
          "name": "stdout",
          "text": [
            "(#11) ['loves','game','thrones','udcc','ca','nt','battleofwinterfell','gamefthrones','battleforwinterfell','udcc','gosharks']\n"
          ]
        }
      ]
    },
    {
      "cell_type": "code",
      "metadata": {
        "colab": {
          "base_uri": "https://localhost:8080/"
        },
        "id": "Lwdealk01yDo",
        "outputId": "0a8f18e9-5023-4735-ed53-a43b135655ea"
      },
      "source": [
        "tkn = Tokenizer(spacy)\n",
        "print(coll_repr(tkn(txt), 31))"
      ],
      "execution_count": 27,
      "outputs": [
        {
          "output_type": "stream",
          "name": "stdout",
          "text": [
            "(#12) ['xxbos','loves','game','thrones','udcc','ca','nt','battleofwinterfell','gamefthrones','battleforwinterfell','udcc','gosharks']\n"
          ]
        }
      ]
    },
    {
      "cell_type": "code",
      "metadata": {
        "colab": {
          "base_uri": "https://localhost:8080/",
          "height": 37
        },
        "id": "IMv9womF2hcq",
        "outputId": "00e5c430-c739-47f5-b0b4-22ab7fe121b2"
      },
      "source": [
        "# Time to fin-tune the model:\n",
        "learn = text_classifier_learner(tweet, AWD_LSTM, metrics = [accuracy, Perplexity()]).to_fp16()"
      ],
      "execution_count": 28,
      "outputs": [
        {
          "output_type": "display_data",
          "data": {
            "text/html": [
              "\n",
              "    <div>\n",
              "        <style>\n",
              "            /* Turns off some styling */\n",
              "            progress {\n",
              "                /* gets rid of default border in Firefox and Opera. */\n",
              "                border: none;\n",
              "                /* Needs to be in here for Safari polyfill so background images work as expected. */\n",
              "                background-size: auto;\n",
              "            }\n",
              "            .progress-bar-interrupted, .progress-bar-interrupted::-webkit-progress-bar {\n",
              "                background: #F44336;\n",
              "            }\n",
              "        </style>\n",
              "      <progress value='105070592' class='' max='105067061' style='width:300px; height:20px; vertical-align: middle;'></progress>\n",
              "      100.00% [105070592/105067061 00:02<00:00]\n",
              "    </div>\n",
              "    "
            ],
            "text/plain": [
              "<IPython.core.display.HTML object>"
            ]
          },
          "metadata": {}
        }
      ]
    },
    {
      "cell_type": "code",
      "metadata": {
        "id": "rtwUuFZ55QPS",
        "colab": {
          "base_uri": "https://localhost:8080/",
          "height": 320
        },
        "outputId": "0412f4f1-ebcd-4583-a70d-eb5f0c5563c2"
      },
      "source": [
        "learn.lr_find(suggest_funcs=[minimum, steep, valley, slide])"
      ],
      "execution_count": 30,
      "outputs": [
        {
          "output_type": "display_data",
          "data": {
            "text/html": [
              ""
            ],
            "text/plain": [
              "<IPython.core.display.HTML object>"
            ]
          },
          "metadata": {}
        },
        {
          "output_type": "execute_result",
          "data": {
            "text/plain": [
              "SuggestedLRs(minimum=0.02089296132326126, steep=1.0964781722577754e-06, valley=0.004365158267319202, slide=0.019054606556892395)"
            ]
          },
          "metadata": {},
          "execution_count": 30
        },
        {
          "output_type": "display_data",
          "data": {
            "image/png": "[encoded data removed]",
            "text/plain": [
              "<Figure size 432x288 with 1 Axes>"
            ]
          },
          "metadata": {
            "needs_background": "light"
          }
        }
      ]
    },
    {
      "cell_type": "code",
      "metadata": {
        "colab": {
          "base_uri": "https://localhost:8080/",
          "height": 362
        },
        "id": "diQil69-21PV",
        "outputId": "9cce4c89-e772-4e86-d940-a5fedd99b1c5"
      },
      "source": [
        "learn.fit_one_cycle(10, 1e-3)"
      ],
      "execution_count": 31,
      "outputs": [
        {
          "output_type": "display_data",
          "data": {
            "text/html": [
              "<table border=\"1\" class=\"dataframe\">\n",
              "  <thead>\n",
              "    <tr style=\"text-align: left;\">\n",
              "      <th>epoch</th>\n",
              "      <th>train_loss</th>\n",
              "      <th>valid_loss</th>\n",
              "      <th>accuracy</th>\n",
              "      <th>perplexity</th>\n",
              "      <th>time</th>\n",
              "    </tr>\n",
              "  </thead>\n",
              "  <tbody>\n",
              "    <tr>\n",
              "      <td>0</td>\n",
              "      <td>0.580027</td>\n",
              "      <td>0.502530</td>\n",
              "      <td>0.756829</td>\n",
              "      <td>1.652897</td>\n",
              "      <td>01:52</td>\n",
              "    </tr>\n",
              "    <tr>\n",
              "      <td>1</td>\n",
              "      <td>0.553900</td>\n",
              "      <td>0.492109</td>\n",
              "      <td>0.762331</td>\n",
              "      <td>1.635763</td>\n",
              "      <td>01:54</td>\n",
              "    </tr>\n",
              "    <tr>\n",
              "      <td>2</td>\n",
              "      <td>0.551725</td>\n",
              "      <td>0.489797</td>\n",
              "      <td>0.763938</td>\n",
              "      <td>1.631985</td>\n",
              "      <td>01:53</td>\n",
              "    </tr>\n",
              "    <tr>\n",
              "      <td>3</td>\n",
              "      <td>0.523183</td>\n",
              "      <td>0.478967</td>\n",
              "      <td>0.767639</td>\n",
              "      <td>1.614406</td>\n",
              "      <td>01:53</td>\n",
              "    </tr>\n",
              "    <tr>\n",
              "      <td>4</td>\n",
              "      <td>0.534847</td>\n",
              "      <td>0.483261</td>\n",
              "      <td>0.768808</td>\n",
              "      <td>1.621353</td>\n",
              "      <td>01:53</td>\n",
              "    </tr>\n",
              "    <tr>\n",
              "      <td>5</td>\n",
              "      <td>0.523930</td>\n",
              "      <td>0.478683</td>\n",
              "      <td>0.767347</td>\n",
              "      <td>1.613947</td>\n",
              "      <td>01:53</td>\n",
              "    </tr>\n",
              "    <tr>\n",
              "      <td>6</td>\n",
              "      <td>0.516417</td>\n",
              "      <td>0.470507</td>\n",
              "      <td>0.773044</td>\n",
              "      <td>1.600806</td>\n",
              "      <td>01:53</td>\n",
              "    </tr>\n",
              "    <tr>\n",
              "      <td>7</td>\n",
              "      <td>0.528130</td>\n",
              "      <td>0.468385</td>\n",
              "      <td>0.774943</td>\n",
              "      <td>1.597413</td>\n",
              "      <td>01:54</td>\n",
              "    </tr>\n",
              "    <tr>\n",
              "      <td>8</td>\n",
              "      <td>0.546343</td>\n",
              "      <td>0.466901</td>\n",
              "      <td>0.774797</td>\n",
              "      <td>1.595043</td>\n",
              "      <td>01:53</td>\n",
              "    </tr>\n",
              "    <tr>\n",
              "      <td>9</td>\n",
              "      <td>0.526519</td>\n",
              "      <td>0.469658</td>\n",
              "      <td>0.771826</td>\n",
              "      <td>1.599447</td>\n",
              "      <td>01:54</td>\n",
              "    </tr>\n",
              "  </tbody>\n",
              "</table>"
            ],
            "text/plain": [
              "<IPython.core.display.HTML object>"
            ]
          },
          "metadata": {}
        }
      ]
    },
    {
      "cell_type": "code",
      "metadata": {
        "id": "Ipw-Lsbp5RxO",
        "colab": {
          "base_uri": "https://localhost:8080/",
          "height": 383
        },
        "outputId": "e393b533-d5fe-42c2-8b54-b230faaed6e5"
      },
      "source": [
        "from fastai.vision import *\n",
        "\n",
        "interp = ClassificationInterpretation.from_learner(learn)\n",
        "interp.plot_confusion_matrix(figsize=(6,6), dpi=60)"
      ],
      "execution_count": 33,
      "outputs": [
        {
          "output_type": "display_data",
          "data": {
            "text/html": [
              ""
            ],
            "text/plain": [
              "<IPython.core.display.HTML object>"
            ]
          },
          "metadata": {}
        },
        {
          "output_type": "display_data",
          "data": {
            "image/png": "[encoded data removed]",
            "text/plain": [
              "<Figure size 360x360 with 1 Axes>"
            ]
          },
          "metadata": {
            "needs_background": "light"
          }
        }
      ]
    },
    {
      "cell_type": "code",
      "metadata": {
        "colab": {
          "base_uri": "https://localhost:8080/",
          "height": 34
        },
        "id": "fwBSSMINbvGB",
        "outputId": "22ece460-44f7-45d9-a41d-abe90d88f9e4"
      },
      "source": [
        "learn.predict('loves game thrones udcc cant battleofwinterfell gamefthrones battleforwinterfell udcc gosharks')"
      ],
      "execution_count": 51,
      "outputs": [
        {
          "output_type": "display_data",
          "data": {
            "text/html": [
              ""
            ],
            "text/plain": [
              "<IPython.core.display.HTML object>"
            ]
          },
          "metadata": {}
        },
        {
          "output_type": "execute_result",
          "data": {
            "text/plain": [
              "('Positive', tensor(1), tensor([0.1054, 0.8946]))"
            ]
          },
          "metadata": {},
          "execution_count": 51
        }
      ]
    },
    {
      "cell_type": "code",
      "metadata": {
        "id": "5jhxYJyN5UjI",
        "colab": {
          "base_uri": "https://localhost:8080/",
          "height": 17
        },
        "outputId": "4e09f73c-8ddb-4131-8947-1b69f46c50ce"
      },
      "source": [
        "interp = ClassificationInterpretation.from_learner(learn)"
      ],
      "execution_count": 42,
      "outputs": [
        {
          "output_type": "display_data",
          "data": {
            "text/html": [
              ""
            ],
            "text/plain": [
              "<IPython.core.display.HTML object>"
            ]
          },
          "metadata": {}
        }
      ]
    },
    {
      "cell_type": "code",
      "metadata": {
        "id": "YU8tpwPevHzI",
        "colab": {
          "base_uri": "https://localhost:8080/",
          "height": 1000
        },
        "outputId": "bed87518-ccfd-4320-f3bd-9afe9b913373"
      },
      "source": [
        "interp.plot_top_losses(k=30)"
      ],
      "execution_count": 48,
      "outputs": [
        {
          "output_type": "display_data",
          "data": {
            "text/html": [
              "<table border=\"1\" class=\"dataframe\">\n",
              "  <thead>\n",
              "    <tr style=\"text-align: right;\">\n",
              "      <th></th>\n",
              "      <th>input</th>\n",
              "      <th>target</th>\n",
              "      <th>predicted</th>\n",
              "      <th>probability</th>\n",
              "      <th>loss</th>\n",
              "    </tr>\n",
              "  </thead>\n",
              "  <tbody>\n",
              "    <tr>\n",
              "      <th>0</th>\n",
              "      <td>xxbos game thrones video montage haunting song nights episode florence machine jenny oldstones lyric video season 8 via</td>\n",
              "      <td>Negative</td>\n",
              "      <td>Positive</td>\n",
              "      <td>0.9550683498382568</td>\n",
              "      <td>3.1026129722595215</td>\n",
              "    </tr>\n",
              "    <tr>\n",
              "      <th>1</th>\n",
              "      <td>xxbos xxunk amp kennedy daily podcast kennedy xxunk guy talked xxunk mothers day dilemma game thrones xxunk xxunk</td>\n",
              "      <td>Negative</td>\n",
              "      <td>Positive</td>\n",
              "      <td>0.954647421836853</td>\n",
              "      <td>3.0932881832122803</td>\n",
              "    </tr>\n",
              "    <tr>\n",
              "      <th>2</th>\n",
              "      <td>xxbos look hbos game thrones season 8 episode 3 teaser</td>\n",
              "      <td>Negative</td>\n",
              "      <td>Positive</td>\n",
              "      <td>0.9462003111839294</td>\n",
              "      <td>2.9224884510040283</td>\n",
              "    </tr>\n",
              "    <tr>\n",
              "      <th>3</th>\n",
              "      <td>xxbos ost game thrones season 4 limited tour edition xxunk 2014 f525 ufe0f forthethrone xxunk gotfinale xxunk xxunk killemall xxunk xxunk xxunk xxunk</td>\n",
              "      <td>Negative</td>\n",
              "      <td>Positive</td>\n",
              "      <td>0.9431908130645752</td>\n",
              "      <td>2.8680570125579834</td>\n",
              "    </tr>\n",
              "    <tr>\n",
              "      <th>4</th>\n",
              "      <td>xxbos steaming live day stream till game thrones stop games gamer twitch xxunk overwatch apexlegends ps4 xbox</td>\n",
              "      <td>Negative</td>\n",
              "      <td>Positive</td>\n",
              "      <td>0.9408441781997681</td>\n",
              "      <td>2.8275792598724365</td>\n",
              "    </tr>\n",
              "    <tr>\n",
              "      <th>5</th>\n",
              "      <td>xxbos game thrones premier annual feast closest allowing inner nerd guess</td>\n",
              "      <td>Negative</td>\n",
              "      <td>Positive</td>\n",
              "      <td>0.938856840133667</td>\n",
              "      <td>2.7945375442504883</td>\n",
              "    </tr>\n",
              "    <tr>\n",
              "      <th>6</th>\n",
              "      <td>xxbos season 5 finale game thrones officially xxunk</td>\n",
              "      <td>Negative</td>\n",
              "      <td>Positive</td>\n",
              "      <td>0.9362850189208984</td>\n",
              "      <td>2.753335475921631</td>\n",
              "    </tr>\n",
              "    <tr>\n",
              "      <th>7</th>\n",
              "      <td>xxbos killed white walker xxunk xxunk martial arts bad ass</td>\n",
              "      <td>Positive</td>\n",
              "      <td>Negative</td>\n",
              "      <td>0.9360808730125427</td>\n",
              "      <td>2.7501354217529297</td>\n",
              "    </tr>\n",
              "    <tr>\n",
              "      <th>8</th>\n",
              "      <td>xxbos day watch game thrones ffs</td>\n",
              "      <td>Negative</td>\n",
              "      <td>Positive</td>\n",
              "      <td>0.932268500328064</td>\n",
              "      <td>2.692204713821411</td>\n",
              "    </tr>\n",
              "    <tr>\n",
              "      <th>9</th>\n",
              "      <td>xxbos game thrones season 8 premiere reunions ranked xxunk</td>\n",
              "      <td>Negative</td>\n",
              "      <td>Positive</td>\n",
              "      <td>0.9311501383781433</td>\n",
              "      <td>2.6758270263671875</td>\n",
              "    </tr>\n",
              "    <tr>\n",
              "      <th>10</th>\n",
              "      <td>xxbos funny brutally honest gameofthrones</td>\n",
              "      <td>Positive</td>\n",
              "      <td>Negative</td>\n",
              "      <td>0.9305844902992249</td>\n",
              "      <td>2.6676454544067383</td>\n",
              "    </tr>\n",
              "    <tr>\n",
              "      <th>11</th>\n",
              "      <td>xxbos xxunk internet stops evening game thrones comes legit scream lol</td>\n",
              "      <td>Negative</td>\n",
              "      <td>Positive</td>\n",
              "      <td>0.9280183911323547</td>\n",
              "      <td>2.6313443183898926</td>\n",
              "    </tr>\n",
              "    <tr>\n",
              "      <th>12</th>\n",
              "      <td>xxbos season 3 game thrones ugh</td>\n",
              "      <td>Negative</td>\n",
              "      <td>Positive</td>\n",
              "      <td>0.9261034727096558</td>\n",
              "      <td>2.6050896644592285</td>\n",
              "    </tr>\n",
              "    <tr>\n",
              "      <th>13</th>\n",
              "      <td>xxbos kills game thrones season 8 episode 2 review via</td>\n",
              "      <td>Negative</td>\n",
              "      <td>Positive</td>\n",
              "      <td>0.925499677658081</td>\n",
              "      <td>2.5969526767730713</td>\n",
              "    </tr>\n",
              "    <tr>\n",
              "      <th>14</th>\n",
              "      <td>xxbos game thrones premier xxunk walker drink death list friends thrones xxunk premier whitewalker knightking xxunk xxunk</td>\n",
              "      <td>Negative</td>\n",
              "      <td>Positive</td>\n",
              "      <td>0.92519611120224</td>\n",
              "      <td>2.592886209487915</td>\n",
              "    </tr>\n",
              "    <tr>\n",
              "      <th>15</th>\n",
              "      <td>xxbos tf arguing watched watched game thrones</td>\n",
              "      <td>Negative</td>\n",
              "      <td>Positive</td>\n",
              "      <td>0.925027072429657</td>\n",
              "      <td>2.590627670288086</td>\n",
              "    </tr>\n",
              "    <tr>\n",
              "      <th>16</th>\n",
              "      <td>xxbos attention fans game thrones queen xxunk michael jackson fitz tantrums orchestra music xxunk auditorium monday 13 7 pm spring concert gameofthrones xxunk xxunk orchestra xxunk</td>\n",
              "      <td>Negative</td>\n",
              "      <td>Positive</td>\n",
              "      <td>0.924210250377655</td>\n",
              "      <td>2.5797922611236572</td>\n",
              "    </tr>\n",
              "    <tr>\n",
              "      <th>17</th>\n",
              "      <td>xxbos there s miss</td>\n",
              "      <td>Negative</td>\n",
              "      <td>Positive</td>\n",
              "      <td>0.9234888553619385</td>\n",
              "      <td>2.570319175720215</td>\n",
              "    </tr>\n",
              "    <tr>\n",
              "      <th>18</th>\n",
              "      <td>xxbos season s xxrep 3 o stupidly written feel threw 10 remade</td>\n",
              "      <td>Negative</td>\n",
              "      <td>Positive</td>\n",
              "      <td>0.9233161807060242</td>\n",
              "      <td>2.5680649280548096</td>\n",
              "    </tr>\n",
              "    <tr>\n",
              "      <th>19</th>\n",
              "      <td>xxbos game thrones season 8 episode 2 regrets hbo via</td>\n",
              "      <td>Negative</td>\n",
              "      <td>Positive</td>\n",
              "      <td>0.9231777787208557</td>\n",
              "      <td>2.5662615299224854</td>\n",
              "    </tr>\n",
              "    <tr>\n",
              "      <th>20</th>\n",
              "      <td>xxbos xxunk notebook final season gameofthrones ca nt win</td>\n",
              "      <td>Negative</td>\n",
              "      <td>Positive</td>\n",
              "      <td>0.9219921231269836</td>\n",
              "      <td>2.5509450435638428</td>\n",
              "    </tr>\n",
              "    <tr>\n",
              "      <th>21</th>\n",
              "      <td>xxbos game thrones series finale critics saying via</td>\n",
              "      <td>Negative</td>\n",
              "      <td>Positive</td>\n",
              "      <td>0.9199306964874268</td>\n",
              "      <td>2.5248632431030273</td>\n",
              "    </tr>\n",
              "    <tr>\n",
              "      <th>22</th>\n",
              "      <td>xxbos xxunk add people xxunk game thrones watched</td>\n",
              "      <td>Negative</td>\n",
              "      <td>Positive</td>\n",
              "      <td>0.9184070825576782</td>\n",
              "      <td>2.5060129165649414</td>\n",
              "    </tr>\n",
              "    <tr>\n",
              "      <th>23</th>\n",
              "      <td>xxbos golden company game thrones books spell trouble tv version westeros photo</td>\n",
              "      <td>Negative</td>\n",
              "      <td>Positive</td>\n",
              "      <td>0.9178197383880615</td>\n",
              "      <td>2.49884033203125</td>\n",
              "    </tr>\n",
              "    <tr>\n",
              "      <th>24</th>\n",
              "      <td>xxbos taylor watches game thrones wtf</td>\n",
              "      <td>Negative</td>\n",
              "      <td>Positive</td>\n",
              "      <td>0.916857123374939</td>\n",
              "      <td>2.487194299697876</td>\n",
              "    </tr>\n",
              "    <tr>\n",
              "      <th>25</th>\n",
              "      <td>xxbos game thrones amp dexter neck amp neck title horribly seasons pure xxunk</td>\n",
              "      <td>Negative</td>\n",
              "      <td>Positive</td>\n",
              "      <td>0.9145200252532959</td>\n",
              "      <td>2.459473133087158</td>\n",
              "    </tr>\n",
              "    <tr>\n",
              "      <th>26</th>\n",
              "      <td>xxbos nerves watching game thrones</td>\n",
              "      <td>Negative</td>\n",
              "      <td>Positive</td>\n",
              "      <td>0.9143672585487366</td>\n",
              "      <td>2.4576871395111084</td>\n",
              "    </tr>\n",
              "    <tr>\n",
              "      <th>27</th>\n",
              "      <td>xxbos seriously shaping birthday week xxunk xxunk shot xxunk endgame xxunk xxunk day puppy xxunk xxunk thrones sunday</td>\n",
              "      <td>Negative</td>\n",
              "      <td>Positive</td>\n",
              "      <td>0.9142141938209534</td>\n",
              "      <td>2.4559013843536377</td>\n",
              "    </tr>\n",
              "    <tr>\n",
              "      <th>28</th>\n",
              "      <td>xxbos 24 hours time finish call wife kids leaving weekend star wars celebration starts game thrones premiers day looking</td>\n",
              "      <td>Negative</td>\n",
              "      <td>Positive</td>\n",
              "      <td>0.9142141938209534</td>\n",
              "      <td>2.4559013843536377</td>\n",
              "    </tr>\n",
              "    <tr>\n",
              "      <th>29</th>\n",
              "      <td>xxbos watch game thrones season 8 online stream xxunk 8 episode 4 streaming 6th 2019 watch link gtgt war gain control mythical land westeros continues game thrones season 8 episode</td>\n",
              "      <td>Negative</td>\n",
              "      <td>Positive</td>\n",
              "      <td>0.9141375422477722</td>\n",
              "      <td>2.4550085067749023</td>\n",
              "    </tr>\n",
              "  </tbody>\n",
              "</table>"
            ],
            "text/plain": [
              "<IPython.core.display.HTML object>"
            ]
          },
          "metadata": {}
        }
      ]
    },
    {
      "cell_type": "code",
      "metadata": {
        "colab": {
          "base_uri": "https://localhost:8080/"
        },
        "id": "4VVIPUFWdMx8",
        "outputId": "1050758a-eb2b-4978-cce8-c02a34e8064b"
      },
      "source": [
        "interp.print_classification_report()"
      ],
      "execution_count": 49,
      "outputs": [
        {
          "output_type": "stream",
          "name": "stdout",
          "text": [
            "              precision    recall  f1-score   support\n",
            "\n",
            "    Negative       0.80      0.30      0.44      6057\n",
            "    Positive       0.77      0.97      0.86     14480\n",
            "\n",
            "    accuracy                           0.77     20537\n",
            "   macro avg       0.78      0.63      0.65     20537\n",
            "weighted avg       0.78      0.77      0.73     20537\n",
            "\n"
          ]
        }
      ]
    },
    {
      "cell_type": "code",
      "metadata": {
        "id": "75PAz5yHdfOo"
      },
      "source": [
        ""
      ],
      "execution_count": null,
      "outputs": []
    }
  ]
}